{
 "cells": [
  {
   "cell_type": "markdown",
   "id": "silver-halloween",
   "metadata": {},
   "source": [
    "# Team JD | Sanoj Anjamkudy, Andrew Porter, Jerry Jacob\n",
    "# Project: Climate Change - README"
   ]
  },
  {
   "cell_type": "markdown",
   "id": "expired-power",
   "metadata": {},
   "source": [
    "Topics discussed:\n",
    "- Project Deliverables\n",
    "- Additional Research and Code\n",
    "- Notes"
   ]
  },
  {
   "cell_type": "markdown",
   "id": "unavailable-strategy",
   "metadata": {},
   "source": [
    "\n",
    "## Project Deliverables\n",
    "\n",
    "<b>Part1: Web Scraping</b>\n",
    "- +3,000 HTML files is in folder; [/articles](./articles)\n",
    "- CSV file with article metadata; [\\_article_metadata.csv](./_article_metadata.csv)\n",
    "- Jupyter notebook with code and output; [Part1_WebScraping.ipynb](./Part1_WebScraping.ipynb)\n",
    "\n",
    "<b>Part2: Sentiment Classification</b>\n",
    "- Manually classified file; [\\_sentiments_target.csv](./_sentiments_target.csv)\n",
    "- Jupyter notebook with code and output; [Part2_SentimentClassifier.ipynb](./Part2_SentimentClassifier.ipynb)\n",
    "\n",
    "<b>Part3: Clustering And Topic Analysis</b>\n",
    "- Jupyter notebook with code and output; [Part3_ClusterTopicAnalysis.ipynb](./Part3_ClusterTopicAnalysis.ipynb)"
   ]
  },
  {
   "cell_type": "markdown",
   "id": "altered-philip",
   "metadata": {},
   "source": [
    "## Additional Research and Code\n",
    "\n",
    "Additional code in Jupyter notebook; [Part1_WebScraping.ipynb](./Part1_WebScraping.ipynb)\n",
    "- Code for dividing sentiments file between the team members\n",
    "- Code to merge the 3 files for further processing\n",
    "- Keyword Network Analysis: We were interested in finding the co-occurrence in the keywords related to climate change.\n",
    "- Similarities between the Article Titles: Aricle Titles with similarity more than 70%\n",
    "- Word Highlights based on the year\n",
    "- Word Highlights based on the author gender"
   ]
  },
  {
   "cell_type": "markdown",
   "id": "julian-windows",
   "metadata": {},
   "source": [
    "## Notes\n",
    "\n",
    "The [/resources](resources/) folder contains the intermediate files and image files that we used in our code. It also contain some additional notebook files that we used for research on climate data and proof of concepts."
   ]
  }
 ],
 "metadata": {
  "kernelspec": {
   "display_name": "Python 3",
   "language": "python",
   "name": "python3"
  },
  "language_info": {
   "codemirror_mode": {
    "name": "ipython",
    "version": 3
   },
   "file_extension": ".py",
   "mimetype": "text/x-python",
   "name": "python",
   "nbconvert_exporter": "python",
   "pygments_lexer": "ipython3",
   "version": "3.7.5"
  }
 },
 "nbformat": 4,
 "nbformat_minor": 5
}
